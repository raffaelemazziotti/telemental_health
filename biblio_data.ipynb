{
 "cells": [
  {
   "cell_type": "code",
   "execution_count": 1,
   "metadata": {},
   "outputs": [],
   "source": [
    "import os\n",
    "import pandas as pd\n",
    "# file conversion from csv to xlsx wit valid field"
   ]
  },
  {
   "cell_type": "code",
   "execution_count": 4,
   "metadata": {},
   "outputs": [],
   "source": [
    "df = pd.read_csv(os.getcwd() + os.path.sep + \"scopus_telepsych.csv\")\n",
    "\n",
    "df['Valid'] = 1\n",
    "df=df.rename(columns={'Author(s) ID':'Authors ID',})\n",
    "\n",
    "temp = list(df.columns)\n",
    "cols = [\"Valid\",'Title','Abstract','Author Keywords','Index Keywords','Authors','Source title','DOI']\n",
    "excol = [t for t in temp if t not in cols + [\"Link\"]]\n",
    "cols.extend(excol)\n",
    "df = df[cols]\n",
    "df = df.sort_values(by='Cited by')\n",
    "import numpy as np\n",
    "df[\"Abstract\"] = df[\"Abstract\"].apply(lambda x:np.nan if x in [\"[No abstract available]\"] else x)\n",
    "df[\"Authors\"] = df[\"Authors\"].apply(lambda x:np.nan if x in [\"[No author name available]\"] else x)\n",
    "\n",
    "df[\"Valid\"] = df[\"Abstract\"].apply(lambda x: 0 if x is np.nan else 1)\n",
    "\n",
    "df.to_excel(os.getcwd() + os.path.sep + \"scopus_telepsych.xlsx\")"
   ]
  },
  {
   "cell_type": "code",
   "execution_count": null,
   "metadata": {},
   "outputs": [],
   "source": []
  }
 ],
 "metadata": {
  "kernelspec": {
   "display_name": "Python 3",
   "language": "python",
   "name": "python3"
  },
  "language_info": {
   "codemirror_mode": {
    "name": "ipython",
    "version": 3
   },
   "file_extension": ".py",
   "mimetype": "text/x-python",
   "name": "python",
   "nbconvert_exporter": "python",
   "pygments_lexer": "ipython3",
   "version": "3.7.6"
  }
 },
 "nbformat": 4,
 "nbformat_minor": 4
}
